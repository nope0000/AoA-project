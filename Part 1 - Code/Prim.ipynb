{
 "cells": [
  {
   "cell_type": "markdown",
   "metadata": {},
   "source": [
    "Prim Algorithm"
   ]
  },
  {
   "cell_type": "code",
   "execution_count": 35,
   "metadata": {},
   "outputs": [],
   "source": [
    "#required libraries for graph and prim algorithm\n",
    "import networkx as nx\n",
    "import random\n",
    "import heapq"
   ]
  },
  {
   "cell_type": "code",
   "execution_count": 24,
   "metadata": {},
   "outputs": [],
   "source": [
    "#Prim algorithm\n",
    "def prim_mst(graph):\n",
    "    \"\"\"Finds the Minimum Spanning Tree of a weighted graph using Prim's algorithm.\"\"\"\n",
    "    # Graph for MST and total weight of it\n",
    "    MST = nx.Graph()\n",
    "    total_weight = 0\n",
    "    # Start with an optional node, here 0\n",
    "    start = list(graph.nodes())[0]\n",
    "    # Set to store visited nodes\n",
    "    visited = set()\n",
    "    visited.add(start)\n",
    "    # Priority queue to store edges with their weight\n",
    "    edge_queue = []\n",
    "    # Add all edges, neighbors of starting node to queue\n",
    "    for neighbor, values in graph[start].items():\n",
    "        heapq.heappush(edge_queue, (values['weight'], start, neighbor))\n",
    "    \n",
    "    # Go for edges with lowest weight first\n",
    "    while edge_queue is not None and len(MST.nodes) < len(graph.nodes):\n",
    "        weight, node, neighbor = heapq.heappop(edge_queue)\n",
    "\n",
    "        if neighbor not in visited:\n",
    "            visited.add(neighbor)\n",
    "            MST.add_edge(node, neighbor, weight = weight)\n",
    "            total_weight += weight\n",
    "\n",
    "            # Add all edges, neighbors of new nodes to queue\n",
    "            for neighbor_v, values in graph[neighbor].items():\n",
    "                if neighbor_v not in visited:\n",
    "                    heapq.heappush(edge_queue, (values['weight'], neighbor, neighbor_v))\n",
    "\n",
    "    return MST, total_weight\n",
    "\n",
    "    "
   ]
  }
 ],
 "metadata": {
  "kernelspec": {
   "display_name": "Python 3",
   "language": "python",
   "name": "python3"
  },
  "language_info": {
   "codemirror_mode": {
    "name": "ipython",
    "version": 3
   },
   "file_extension": ".py",
   "mimetype": "text/x-python",
   "name": "python",
   "nbconvert_exporter": "python",
   "pygments_lexer": "ipython3",
   "version": "3.12.4"
  }
 },
 "nbformat": 4,
 "nbformat_minor": 2
}
