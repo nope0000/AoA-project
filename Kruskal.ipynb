{
 "cells": [
  {
   "cell_type": "markdown",
   "metadata": {},
   "source": [
    "Kruskal Algorithm\n",
    "\n"
   ]
  },
  {
   "cell_type": "code",
   "execution_count": 2,
   "metadata": {},
   "outputs": [],
   "source": [
    "#required libraries for graph and kruskal algorithm\n",
    "import networkx as nx\n",
    "import random"
   ]
  },
  {
   "cell_type": "code",
   "execution_count": 1,
   "metadata": {},
   "outputs": [],
   "source": [
    "#Kruskal algorithm\n",
    "def kruskal_mst(graph):\n",
    "    \"\"\"Finds the Minimum Spanning Tree of a weighted graph using Kruskal's algorithm.\"\"\"\n",
    "    def look(parent, i):\n",
    "        if parent[i] == i:\n",
    "            return i\n",
    "        return look(parent, parent[i])\n",
    "\n",
    "    def apply_union(parent, rank, x, y):\n",
    "        xroot = look(parent, x)\n",
    "        yroot = look(parent, y)\n",
    "        if rank[xroot] < rank[yroot]:\n",
    "            parent[xroot] = yroot\n",
    "        elif rank[xroot] > rank[yroot]:\n",
    "            parent[yroot] = xroot\n",
    "        else:\n",
    "            parent[yroot] = xroot\n",
    "            rank[xroot] += 1\n",
    "\n",
    "    # Graph for MST and total weight of it\n",
    "    MST = nx.Graph()\n",
    "    total_weight = 0\n",
    "    # Sort edges by their weight\n",
    "    edge_list = sorted(graph.edges(data=True), key=lambda x: x[2]['weight'])\n",
    "\n",
    "    parent = []\n",
    "    rank = []\n",
    "\n",
    "    for node in range(len(graph.nodes())):\n",
    "        parent.append(node)\n",
    "        rank.append(0)\n",
    "    \n",
    "    while len(MST.nodes()) < len(graph.nodes()):\n",
    "        for u, v, values in edge_list:\n",
    "            if look(parent, u) != look(parent, v):\n",
    "                MST.add_edge(u, v, weight=values['weight'])\n",
    "                apply_union(parent, rank, u, v)\n",
    "    weight_list = list(MST.edges.data(\"weight\", default=1))\n",
    "    for i in range(len(weight_list)):\n",
    "        total_weight += weight_list[i][2]\n",
    "    return MST, total_weight\n"
   ]
  }
 ],
 "metadata": {
  "kernelspec": {
   "display_name": "AoA",
   "language": "python",
   "name": "python3"
  },
  "language_info": {
   "codemirror_mode": {
    "name": "ipython",
    "version": 3
   },
   "file_extension": ".py",
   "mimetype": "text/x-python",
   "name": "python",
   "nbconvert_exporter": "python",
   "pygments_lexer": "ipython3",
   "version": "3.12.4"
  }
 },
 "nbformat": 4,
 "nbformat_minor": 2
}
